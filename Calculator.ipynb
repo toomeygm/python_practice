{
  "cells": [
    {
      "cell_type": "markdown",
      "metadata": {
        "id": "view-in-github",
        "colab_type": "text"
      },
      "source": [
        "<a href=\"https://colab.research.google.com/github/toomeygm/python_practice/blob/main/Calculator.ipynb\" target=\"_parent\"><img src=\"https://colab.research.google.com/assets/colab-badge.svg\" alt=\"Open In Colab\"/></a>"
      ]
    },
    {
      "cell_type": "markdown",
      "source": [
        "Task 1: Read in 3 variables from keyboard input, 2 numbers\n",
        "and 1 operator which can be +, -, *, /\n",
        "\n",
        "Task 2: Calculate and print the result of the calculation, depending on the input. E.g. if var1=”5”, var2=”8”, op=”*”, print 40. Print a message if a not-supported operator is given as input\n",
        "\n"
      ],
      "metadata": {
        "id": "eAXB_xTxGpbz"
      }
    },
    {
      "cell_type": "code",
      "execution_count": 71,
      "metadata": {
        "colab": {
          "base_uri": "https://localhost:8080/"
        },
        "id": "RsLX7fwppG85",
        "outputId": "7781ad0c-e93c-4655-f656-77243564c700"
      },
      "outputs": [
        {
          "output_type": "stream",
          "name": "stdout",
          "text": [
            "Enter a floating point number: 4.4\n",
            "Enter another floating point number: 2.2\n",
            "Choose add(+), subtract(-), multiply(*), or divide(/): /\n",
            "2.0\n"
          ]
        }
      ],
      "source": [
        "var3 = float(input(\"Enter a floating point number: \"))\n",
        "var4 = float(input(\"Enter another floating point number: \"))\n",
        "op = input(\"Choose add(+), subtract(-), multiply(*), or divide(/): \")\n",
        "\n",
        "\n",
        "if op == \"+\":  \n",
        "  print(var3 + var4)\n",
        "elif op == \"-\":  \n",
        "  print(var3 - var4)\n",
        "elif op == \"*\":  \n",
        "  print(var3 * var4)\n",
        "elif op == \"/\":  \n",
        "  print(var3/var4)\n",
        "else:\n",
        "  print(\"This operator is not supported.\")\n"
      ]
    },
    {
      "cell_type": "markdown",
      "source": [
        "Task 3: Change your program so input could be integer\n",
        "or float numbers (if your program doesn’t already support it)"
      ],
      "metadata": {
        "id": "9VgsXQULHlGz"
      }
    },
    {
      "cell_type": "code",
      "source": [
        "#Program already supports int, as float accepts integers\n",
        "var3 = float(input(\"Enter a number: \"))\n",
        "var4 = float(input(\"Enter another number: \"))\n",
        "op = input(\"add(+), subtract(-), multiply(*), divide(/): \")\n",
        "\n",
        "\n",
        "if op == \"+\":  \n",
        "  print(var3 + var4)\n",
        "elif op == \"-\":  \n",
        "  print(var3 - var4)\n",
        "elif op == \"*\":  \n",
        "  print(var3 * var4)\n",
        "elif op == \"/\":\n",
        "  print(var3 / var4) "
      ],
      "metadata": {
        "id": "psVTem0sHs_n",
        "colab": {
          "base_uri": "https://localhost:8080/"
        },
        "outputId": "6189b0e0-331e-41e0-fa02-99feee7b4899"
      },
      "execution_count": 81,
      "outputs": [
        {
          "output_type": "stream",
          "name": "stdout",
          "text": [
            "Enter a number: 6\n",
            "Enter another number: 3\n",
            "add(+), subtract(-), multiply(*), divide(/): *\n",
            "18.0\n"
          ]
        }
      ]
    },
    {
      "cell_type": "markdown",
      "source": [
        "Task 4: Take your code that calculates the result and put it into a function! The function should take the 2 variables for numbers and the variable for operator as arguments and return the final result of the calculation.\n",
        "The program should still print the result at the end as before."
      ],
      "metadata": {
        "id": "400SDS4-RlsS"
      }
    },
    {
      "cell_type": "code",
      "source": [
        "def multiply(var3, var4, op):\n",
        "  result = var3 * var4\n",
        "  return result\n",
        "\n",
        "multiply(var3, var4, op)"
      ],
      "metadata": {
        "colab": {
          "base_uri": "https://localhost:8080/"
        },
        "id": "0DQcyvxARlZ_",
        "outputId": "9b99f3e4-c760-4904-be40-7f32f305785f"
      },
      "execution_count": 82,
      "outputs": [
        {
          "output_type": "execute_result",
          "data": {
            "text/plain": [
              "18.0"
            ]
          },
          "metadata": {},
          "execution_count": 82
        }
      ]
    },
    {
      "cell_type": "markdown",
      "source": [
        "Task 5: Write a 2nd function to check if division by zero occurs.\n",
        "The function should return True if division by zero occurs.\n",
        "The function should return False if division is not done by zero.\n",
        "The function should return False if any other operator is used"
      ],
      "metadata": {
        "id": "honQYY-ZTQwy"
      }
    },
    {
      "cell_type": "code",
      "source": [
        "def zero_division(var3, var4, op):\n",
        "  #check if the number you are dividing by is zero\n",
        "  if var3 or var4 == 0 and op == \"/\":\n",
        "    print(\"True\")\n",
        "  else:\n",
        "    print(\"False\")\n",
        "  #if var3 or var4 != 0:\n",
        "    #print(\"False\")\n",
        "  #if op != \"/\":\n",
        "    #print(\"False\")\n",
        "\n",
        "zero_division(var3, var4, op)     \n"
      ],
      "metadata": {
        "colab": {
          "base_uri": "https://localhost:8080/"
        },
        "id": "gN9y-VS6UBDN",
        "outputId": "b2abac25-a8dd-40cf-fc19-aedb0def1140"
      },
      "execution_count": 83,
      "outputs": [
        {
          "output_type": "stream",
          "name": "stdout",
          "text": [
            "True\n"
          ]
        }
      ]
    },
    {
      "cell_type": "markdown",
      "source": [
        "Task 6: Extend your calculator to support modulo if user types in “%” as operator.\n",
        "Modulo calculates the remainder of a division,\n",
        "e.g. 5 mod 2 = 1"
      ],
      "metadata": {
        "id": "tc5Yx7mEb7ZP"
      }
    },
    {
      "cell_type": "code",
      "source": [
        "var3 = float(input(\"Enter a floating point number: \"))\n",
        "var4 = float(input(\"Enter another floating point number: \"))\n",
        "op = input(\"add(+), subtract(-), multiply(*), divide(/), modulo(%): \")\n",
        "\n",
        "if op == \"%\":\n",
        "  print(var3 % var4)\n"
      ],
      "metadata": {
        "colab": {
          "base_uri": "https://localhost:8080/"
        },
        "id": "I9cOVZHzclAZ",
        "outputId": "59d94ad4-5929-42b6-b8a7-509f2cf9ca76"
      },
      "execution_count": 62,
      "outputs": [
        {
          "output_type": "stream",
          "name": "stdout",
          "text": [
            "Enter a floating point number: 20.0\n",
            "Enter another floating point number: 4.6\n",
            "add(+), subtract(-), multiply(*), divide(/), modulo(%): %\n",
            "1.6000000000000014\n"
          ]
        }
      ]
    },
    {
      "cell_type": "markdown",
      "source": [
        "Task 7 (bonus): Round the final result to 3 decimal places.\n",
        "Print a message that rounding is applied if and only if the final result would have more than 3 decimal places normally"
      ],
      "metadata": {
        "id": "_BSaS-4LdYDV"
      }
    },
    {
      "cell_type": "code",
      "execution_count": 85,
      "metadata": {
        "id": "2vjtV0wxy9Zq",
        "colab": {
          "base_uri": "https://localhost:8080/"
        },
        "outputId": "28f57d26-e3d4-424d-d57f-6b83e4509400"
      },
      "outputs": [
        {
          "output_type": "stream",
          "name": "stdout",
          "text": [
            "1.6\n",
            "Rounding only applied if final result normally has more than 3 decimal places.\n"
          ]
        }
      ],
      "source": [
        "result = round((1.6000000000000014), 3)\n",
        "print(result)\n",
        "print(\"Rounding only applied if final result normally has more than 3 decimal places.\")"
      ]
    }
  ],
  "metadata": {
    "colab": {
      "provenance": [],
      "include_colab_link": true
    },
    "kernelspec": {
      "display_name": "Python 3",
      "name": "python3"
    },
    "language_info": {
      "name": "python"
    }
  },
  "nbformat": 4,
  "nbformat_minor": 0
}