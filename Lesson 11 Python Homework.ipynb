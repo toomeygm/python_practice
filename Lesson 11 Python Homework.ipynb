{
 "cells": [
  {
   "cell_type": "markdown",
   "metadata": {},
   "source": [
    "Task 1\n",
    "\n",
    "Write a function that takes a list of strings and a name as an input and returns a boolean value that indicates if the name is present in the list. Do this by using a for-loop.\n"
   ]
  },
  {
   "cell_type": "code",
   "execution_count": 37,
   "metadata": {},
   "outputs": [
    {
     "name": "stdout",
     "output_type": "stream",
     "text": [
      "v: raven\n",
      "bird not there\n",
      "v: robin\n",
      "bird not there\n",
      "v: redstart\n",
      "bird not there\n",
      "False\n"
     ]
    }
   ],
   "source": [
    "def checkName(birds_list, name):\n",
    "    #bird_list=[\"raven\", \"robin\", \"redstart\"]\n",
    "    \n",
    "    for v in birds_list:\n",
    "        print(\"v: \" + v)\n",
    "        if v == name:\n",
    "            return True\n",
    "        else:\n",
    "            print (\"bird not there\")\n",
    "    return False   \n",
    "\n",
    "\n",
    "\n",
    "some_list = [\"raven\", \"robin\", \"redstart\"]\n",
    "\n",
    "\n",
    "print(checkName(some_list, \"rat\"))\n"
   ]
  },
  {
   "cell_type": "code",
   "execution_count": 5,
   "metadata": {},
   "outputs": [
    {
     "name": "stdout",
     "output_type": "stream",
     "text": [
      "nice to meet you,tim\n"
     ]
    },
    {
     "data": {
      "text/plain": [
       "2"
      ]
     },
     "execution_count": 5,
     "metadata": {},
     "output_type": "execute_result"
    }
   ],
   "source": [
    "\n",
    "myName = input(\"enter name:\")\n",
    "print(\"nice to meet you,\" + myName)\n",
    "\n",
    "len(\"nice to meet you\")\n",
    "\n",
    "2\n",
    "\n",
    "\n",
    "\n",
    "\n",
    "\n"
   ]
  },
  {
   "cell_type": "code",
   "execution_count": 61,
   "metadata": {},
   "outputs": [
    {
     "name": "stdout",
     "output_type": "stream",
     "text": [
      "complete dud\n"
     ]
    }
   ],
   "source": [
    "album_rating = float(input(\"How do you rate this album?\"))\n",
    "\n",
    "#time to rate this album!\n",
    "\n",
    "if album_rating > 6:\n",
    "    print('listen on repeat')\n",
    "    print(\"wear headphones all day\")\n",
    "\n",
    "elif album_rating > 3:\n",
    "    print(\"It's a NO\")\n",
    "\n",
    "else: \n",
    "    print (\"complete dud\")\n"
   ]
  },
  {
   "cell_type": "code",
   "execution_count": 20,
   "metadata": {},
   "outputs": [
    {
     "name": "stdout",
     "output_type": "stream",
     "text": [
      "raven\n",
      "robin\n",
      "redstart\n"
     ]
    }
   ],
   "source": [
    "birds_list = [\"raven\", \"robin\", \"redstart\"]\n",
    "for any_variable_name in birds:\n",
    "    print(any_variable_name)"
   ]
  },
  {
   "cell_type": "code",
   "execution_count": 10,
   "metadata": {},
   "outputs": [
    {
     "name": "stdout",
     "output_type": "stream",
     "text": [
      "raven\n",
      "robin\n"
     ]
    }
   ],
   "source": [
    "birds_list = [\"raven\", \"robin\", \"redstart\"]\n",
    "for x in birds_list:\n",
    "    print(x)\n",
    "    if x == \"robin\":\n",
    "        break\n"
   ]
  },
  {
   "cell_type": "markdown",
   "metadata": {},
   "source": [
    "Task 2\n",
    "\n",
    "\n",
    "Write a while loop that adds all the numbers up to 100 (inclusive).\n",
    "The answer should be 5050\n"
   ]
  },
  {
   "cell_type": "code",
   "execution_count": 22,
   "metadata": {},
   "outputs": [
    {
     "name": "stdout",
     "output_type": "stream",
     "text": [
      "5050\n"
     ]
    }
   ],
   "source": [
    "i = 0 #starting number\n",
    "final_sum = 0\n",
    "while i < 100:\n",
    "    final_sum += i + 1\n",
    "    i += 1\n",
    "\n",
    "print(final_sum)\n",
    "    "
   ]
  },
  {
   "cell_type": "code",
   "execution_count": 25,
   "metadata": {},
   "outputs": [],
   "source": [
    "bool(5)\n",
    "10\n",
    "2902\n",
    "a = \"wehat\""
   ]
  },
  {
   "cell_type": "code",
   "execution_count": 16,
   "metadata": {},
   "outputs": [
    {
     "name": "stdout",
     "output_type": "stream",
     "text": [
      "5050\n"
     ]
    }
   ],
   "source": [
    "i = 0 #starting number\n",
    "summ_of_100 = 0 #starting sum\n",
    "while i < 100: \n",
    "    i = i+1\n",
    "    summ_of_100 = summ_of_100 + i\n",
    "       \n",
    "print(summ_of_100)"
   ]
  },
  {
   "cell_type": "code",
   "execution_count": 26,
   "metadata": {},
   "outputs": [
    {
     "name": "stdout",
     "output_type": "stream",
     "text": [
      "5050\n"
     ]
    }
   ],
   "source": [
    "a = 0\n",
    "finalSum = 0\n",
    "\n",
    "while a < 100:\n",
    "    a += 1\n",
    "    finalSum += a\n",
    "    \n",
    "print(finalSum)"
   ]
  },
  {
   "cell_type": "code",
   "execution_count": 36,
   "metadata": {},
   "outputs": [
    {
     "name": "stdout",
     "output_type": "stream",
     "text": [
      "The furthest away planet is Neptune\n"
     ]
    }
   ],
   "source": [
    "def my_func(*planets):\n",
    "    print(\"The furthest away planet is \" + planets[7])\n",
    "\n",
    "my_func(\"Mercury\", \"Venus\", \"Earth\", \"Mars\", \"Jupiter\", \"Saturn\", \"Uranus\", \"Neptune\")\n"
   ]
  },
  {
   "cell_type": "code",
   "execution_count": 1,
   "metadata": {},
   "outputs": [
    {
     "data": {
      "text/plain": [
       "'[1.2, 3.4, 5.6]_500'"
      ]
     },
     "execution_count": 1,
     "metadata": {},
     "output_type": "execute_result"
    }
   ],
   "source": [
    "b = [1.2, 3.4, 5.6]\n",
    "f\"{b}_500\""
   ]
  },
  {
   "cell_type": "code",
   "execution_count": null,
   "metadata": {},
   "outputs": [],
   "source": []
  }
 ],
 "metadata": {
  "kernelspec": {
   "display_name": "Python 3.10.8 64-bit",
   "language": "python",
   "name": "python3"
  },
  "language_info": {
   "codemirror_mode": {
    "name": "ipython",
    "version": 3
   },
   "file_extension": ".py",
   "mimetype": "text/x-python",
   "name": "python",
   "nbconvert_exporter": "python",
   "pygments_lexer": "ipython3",
   "version": "3.10.8"
  },
  "orig_nbformat": 4,
  "vscode": {
   "interpreter": {
    "hash": "aee8b7b246df8f9039afb4144a1f6fd8d2ca17a180786b69acc140d282b71a49"
   }
  }
 },
 "nbformat": 4,
 "nbformat_minor": 2
}
