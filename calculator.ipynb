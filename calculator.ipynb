{
  "cells": [
    {
      "cell_type": "markdown",
      "metadata": {
        "colab_type": "text",
        "id": "view-in-github"
      },
      "source": [
        "<a href=\"https://colab.research.google.com/github/toomeygm/python_practice/blob/main/calculator.ipynb\" target=\"_parent\"><img src=\"https://colab.research.google.com/assets/colab-badge.svg\" alt=\"Open In Colab\"/></a>"
      ]
    },
    {
      "cell_type": "code",
      "execution_count": 44,
      "metadata": {
        "colab": {
          "base_uri": "https://localhost:8080/"
        },
        "id": "RsLX7fwppG85",
        "outputId": "3baacec3-a092-45e5-f155-dcb5be38241a"
      },
      "outputs": [
        {
          "name": "stdout",
          "output_type": "stream",
          "text": [
            "Enter a floating point number: 4.5\n",
            "add(+), subtract(-), multiply(*), divide(/): -\n",
            "Enter another floating point number: 2.3\n",
            "2.2\n",
            "var3 and var4 are not equal\n",
            "Enter an integer: 8\n",
            "add(+), subtract(-), multiply(*), divide(/): +\n",
            "Enter another integer: 2\n",
            "10\n"
          ]
        }
      ],
      "source": [
        "var3 = input(\"Enter a floating point number: \")\n",
        "op = input(\"add(+), subtract(-), multiply(*), divide(/): \")\n",
        "var4 = input(\"Enter another floating point number: \")\n",
        "\n",
        "\n",
        "if op == \"+\":  \n",
        "  print(float(var3) + float(var4))\n",
        "\n",
        "elif op == \"-\":  \n",
        "  print(float(var3) - float(var4))\n",
        "\n",
        "elif op == \"*\":  \n",
        "  print(float(var3) * float(var4))\n",
        "\n",
        "elif op == \"/\":  \n",
        "  print(float(var3) / float(var4))\n",
        "\n",
        "  \n",
        "  \n",
        "  \n",
        "if float(var3) != float(var4):\n",
        "  print(\"var3 and var4 are not equal\")\n",
        "\n",
        "\"\"\"This operator is not supported.\"\"\"\n",
        "\n",
        "var3 = input(\"Enter an integer: \")\n",
        "op = input(\"add(+), subtract(-), multiply(*), divide(/): \")\n",
        "var4 = input(\"Enter another integer: \")\n",
        "\n",
        "\n",
        "if op == \"+\":  \n",
        "  print(int(var3) + int(var4))\n",
        "\n",
        "elif op == \"-\":  \n",
        "  print(int(var3) - int(var4))\n",
        "\n",
        "elif op == \"*\":  \n",
        "  print(int(var3) * int(var4))\n",
        "\n",
        "elif op == \"/\":  \n",
        "  print(int(var3) / int(var4))\n",
        "\n",
        "\n",
        "\n",
        "\n"
      ]
    },
    {
      "cell_type": "code",
      "execution_count": 42,
      "metadata": {
        "colab": {
          "base_uri": "https://localhost:8080/"
        },
        "id": "XMkcq7gauNrI",
        "outputId": "1447570b-caf0-44ea-f51e-4f7138bc930f"
      },
      "outputs": [
        {
          "data": {
            "text/plain": [
              "False"
            ]
          },
          "execution_count": 42,
          "metadata": {},
          "output_type": "execute_result"
        }
      ],
      "source": [
        "mylist = [2.0, 3.5]\n",
        "mystring = \"tuv\"\n",
        "\n",
        "1 in mylist\n",
        "int in mylist"
      ]
    },
    {
      "cell_type": "code",
      "execution_count": null,
      "metadata": {
        "id": "2vjtV0wxy9Zq"
      },
      "outputs": [],
      "source": [
        "#The int() function is also useful if you need to round a floating-point number down.\n",
        "\n",
        "print(int(7.7))\n",
        "7\n",
        "print(int(7.7) + 1)\n",
        "8"
      ]
    }
  ],
  "metadata": {
    "colab": {
      "authorship_tag": "ABX9TyOuYIsaYhQR3bgQtpI5G2wf",
      "collapsed_sections": [],
      "include_colab_link": true,
      "provenance": []
    },
    "kernelspec": {
      "display_name": "Python 3",
      "name": "python3"
    },
    "language_info": {
      "name": "python"
    }
  },
  "nbformat": 4,
  "nbformat_minor": 0
}
