{
  "nbformat": 4,
  "nbformat_minor": 0,
  "metadata": {
    "colab": {
      "provenance": [],
      "collapsed_sections": [],
      "authorship_tag": "ABX9TyOuYIsaYhQR3bgQtpI5G2wf",
      "include_colab_link": true
    },
    "kernelspec": {
      "name": "python3",
      "display_name": "Python 3"
    },
    "language_info": {
      "name": "python"
    }
  },
  "cells": [
    {
      "cell_type": "markdown",
      "metadata": {
        "id": "view-in-github",
        "colab_type": "text"
      },
      "source": [
        "<a href=\"https://colab.research.google.com/github/toomeygm/python_practice/blob/main/calculator.ipynb\" target=\"_parent\"><img src=\"https://colab.research.google.com/assets/colab-badge.svg\" alt=\"Open In Colab\"/></a>"
      ]
    },
    {
      "cell_type": "code",
      "source": [
        "var3 = input(\"Enter a floating point number: \")\n",
        "op = input(\"add(+), subtract(-), multiply(*), divide(/): \")\n",
        "var4 = input(\"Enter another floating point number: \")\n",
        "\n",
        "\n",
        "if op == \"+\":  \n",
        "  print(float(var3) + float(var4))\n",
        "\n",
        "elif op == \"-\":  \n",
        "  print(float(var3) - float(var4))\n",
        "\n",
        "elif op == \"*\":  \n",
        "  print(float(var3) * float(var4))\n",
        "\n",
        "elif op == \"/\":  \n",
        "  print(float(var3) / float(var4))\n",
        "\n",
        "  \n",
        "  \n",
        "  \n",
        "if float(var3) != float(var4):\n",
        "  print(\"var3 and var4 are not equal\")\n",
        "\n",
        "\"\"\"This operator is not supported.\"\"\"\n",
        "\n",
        "var3 = input(\"Enter an integer: \")\n",
        "op = input(\"add(+), subtract(-), multiply(*), divide(/): \")\n",
        "var4 = input(\"Enter another integer: \")\n",
        "\n",
        "\n",
        "if op == \"+\":  \n",
        "  print(int(var3) + int(var4))\n",
        "\n",
        "elif op == \"-\":  \n",
        "  print(int(var3) - int(var4))\n",
        "\n",
        "elif op == \"*\":  \n",
        "  print(int(var3) * int(var4))\n",
        "\n",
        "elif op == \"/\":  \n",
        "  print(int(var3) / int(var4))\n",
        "\n",
        "\n",
        "\n",
        "\n"
      ],
      "metadata": {
        "id": "RsLX7fwppG85",
        "colab": {
          "base_uri": "https://localhost:8080/"
        },
        "outputId": "3baacec3-a092-45e5-f155-dcb5be38241a"
      },
      "execution_count": 44,
      "outputs": [
        {
          "output_type": "stream",
          "name": "stdout",
          "text": [
            "Enter a floating point number: 4.5\n",
            "add(+), subtract(-), multiply(*), divide(/): -\n",
            "Enter another floating point number: 2.3\n",
            "2.2\n",
            "var3 and var4 are not equal\n",
            "Enter an integer: 8\n",
            "add(+), subtract(-), multiply(*), divide(/): +\n",
            "Enter another integer: 2\n",
            "10\n"
          ]
        }
      ]
    },
    {
      "cell_type": "code",
      "source": [
        "mylist = [2.0, 3.5]\n",
        "mystring = \"tuv\"\n",
        "\n",
        "1 in mylist\n",
        "int in mylist"
      ],
      "metadata": {
        "colab": {
          "base_uri": "https://localhost:8080/"
        },
        "id": "XMkcq7gauNrI",
        "outputId": "1447570b-caf0-44ea-f51e-4f7138bc930f"
      },
      "execution_count": 42,
      "outputs": [
        {
          "output_type": "execute_result",
          "data": {
            "text/plain": [
              "False"
            ]
          },
          "metadata": {},
          "execution_count": 42
        }
      ]
    },
    {
      "cell_type": "code",
      "source": [],
      "metadata": {
        "id": "2vjtV0wxy9Zq"
      },
      "execution_count": null,
      "outputs": []
    }
  ]
}