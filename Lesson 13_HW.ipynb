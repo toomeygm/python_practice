{
 "cells": [
  {
   "cell_type": "markdown",
   "metadata": {},
   "source": [
    "Exercise 1:\n",
    "Best-selling artists\n",
    "\n",
    "\n",
    "\n",
    "Define an artists dict with the names of the four best-selling music artists as keys, and their claimed sales as values:The Beatles with 600 million salesElvis Presley with 600 million salesMichael Jackson with 350 million salesMadonna with 300 million sales\n",
    "Then ask the user to enter the name of an artist. Look up the number of sales of this artist, falling back to 'unknown' if the artists is not in the dict, and print out the result."
   ]
  },
  {
   "cell_type": "code",
   "execution_count": 24,
   "metadata": {},
   "outputs": [
    {
     "name": "stdout",
     "output_type": "stream",
     "text": [
      "unknown\n"
     ]
    }
   ],
   "source": [
    "best_selling_artists = {\n",
    "    \"The Beatles\": 600, # million sales\n",
    "    \"Elvis Presley\": 600,\n",
    "    \"Michael Jackson\": 350,\n",
    "    \"Madonna\": 300\n",
    "    }\n",
    "\n",
    "#check artist sales for artist that exists in dict\n",
    "artist = input(\"Please enter the name of an artist\")\n",
    "\n",
    "if artist in best_selling_artists:\n",
    "    print(best_selling_artists[artist])\n",
    "\n",
    "#if artist is not in dict\n",
    "else:\n",
    "    print(\"unknown\")\n",
    "   \n"
   ]
  },
  {
   "cell_type": "markdown",
   "metadata": {},
   "source": [
    "Exercise 2:\n",
    "Fibonacci\n",
    "\n",
    "Define a fibonacci list that corresponds to the Fibonacci series up to 8. Then, use slicing to create two subseries:\n",
    "even_fibonacci, with all numbers at even indices (0, 2, etc.); and\n",
    "odd_fibonacci, with all numbers at odd indices (1, 3, etc.).\n",
    "Note: If you are not familiar with Fibonacci series use this link https://en.wikipedia.org/wiki/Fibonacci_number\n",
    "for this exercise your list consist this numbers: 0, 1, 1, 2, 3, 5, 8"
   ]
  },
  {
   "cell_type": "code",
   "execution_count": 45,
   "metadata": {},
   "outputs": [
    {
     "name": "stdout",
     "output_type": "stream",
     "text": [
      "[0, 2, 8]\n",
      "[1, 2, 5]\n"
     ]
    }
   ],
   "source": [
    "nums = [0, 1, 1, 2, 3, 5, 8]\n",
    "\n",
    "even_fibonacci = nums[::3]\n",
    "print(even_fibonacci)\n",
    "\n",
    "odd_fibonacci = nums[1::2]\n",
    "print(odd_fibonacci)\n",
    "\n",
    "#Slicing seems correct for even_fib, but I struggled with odd_fib slicing\n",
    "\n"
   ]
  },
  {
   "cell_type": "code",
   "execution_count": null,
   "metadata": {},
   "outputs": [],
   "source": []
  }
 ],
 "metadata": {
  "kernelspec": {
   "display_name": "Python 3.10.8 64-bit",
   "language": "python",
   "name": "python3"
  },
  "language_info": {
   "codemirror_mode": {
    "name": "ipython",
    "version": 3
   },
   "file_extension": ".py",
   "mimetype": "text/x-python",
   "name": "python",
   "nbconvert_exporter": "python",
   "pygments_lexer": "ipython3",
   "version": "3.10.8"
  },
  "orig_nbformat": 4,
  "vscode": {
   "interpreter": {
    "hash": "aee8b7b246df8f9039afb4144a1f6fd8d2ca17a180786b69acc140d282b71a49"
   }
  }
 },
 "nbformat": 4,
 "nbformat_minor": 2
}
