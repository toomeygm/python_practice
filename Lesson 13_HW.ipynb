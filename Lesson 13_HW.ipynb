{
 "cells": [
  {
   "cell_type": "markdown",
   "metadata": {},
   "source": [
    "Exercise 1:\n",
    "Best-selling artists\n",
    "\n",
    "\n",
    "\n",
    "Define an artists dict with the names of the four best-selling music artists as keys, and their claimed sales as values:The Beatles with 600 million salesElvis Presley with 600 million salesMichael Jackson with 350 million salesMadonna with 300 million sales\n",
    "Then ask the user to enter the name of an artist. Look up the number of sales of this artist, falling back to 'unknown' if the artists is not in the dict, and print out the result."
   ]
  },
  {
   "cell_type": "code",
   "execution_count": 48,
   "metadata": {},
   "outputs": [
    {
     "name": "stdout",
     "output_type": "stream",
     "text": [
      "300\n",
      "unknown\n",
      "The Beatles: 600\n",
      "Elvis Presley: 600\n",
      "Jacko: 350\n",
      "Madonna: 300\n",
      "dict_items([('The Beatles', 600), ('Elvis Presley', 600), ('Jacko', 350), ('Madonna', 300)])\n",
      "600\n",
      "dict_keys(['The Beatles', 'Elvis Presley', 'Jacko', 'Madonna'])\n",
      "dict_values([600, 600, 350, 300])\n"
     ]
    },
    {
     "data": {
      "text/plain": [
       "dict_items([('The Beatles', 600), ('Elvis Presley', 600), ('Jacko', 350), ('Madonna', 300)])"
      ]
     },
     "execution_count": 48,
     "metadata": {},
     "output_type": "execute_result"
    }
   ],
   "source": [
    "best_selling_artists = {\n",
    "    \"The Beatles\": 600, # million sales\n",
    "    \"Elvis Presley\": 600,\n",
    "    \"Jacko\": 350,\n",
    "    \"Madonna\": 300\n",
    "    }\n",
    "\n",
    "#check artist sales for artist present in dict\n",
    "artist = input()\n",
    "print (best_selling_artists[\"Madonna\"])\n",
    "#To check an artist not in dict\n",
    "check_artist = input()\n",
    "if check_artist not in best_selling_artists:\n",
    "    print(\"unknown\")\n",
    "\n",
    "\n",
    "#Bonus practice: looping over dict using for loop\n",
    "for x, v in best_selling_artists.items ():\n",
    "    print(x+\":\",v)\n",
    "\n",
    "print(best_selling_artists.items())\n",
    "#alternatively, just enter \"best_selling_artists.items()\"\n",
    "\n",
    "#Bonus practice: Accessing key and value info\n",
    "print(best_selling_artists[\"Elvis Presley\"])\n",
    "print(best_selling_artists.keys()) # list of keys\n",
    "print(best_selling_artists.values()) #list of values\n",
    "\n",
    "\n",
    "\n"
   ]
  },
  {
   "cell_type": "markdown",
   "metadata": {},
   "source": [
    "Exercise 2:\n",
    "Fibonacci\n",
    "\n",
    "Define a fibonacci list that corresponds to the Fibonacci series up to 8. Then, use slicing to create two subseries:\n",
    "even_fibonacci, with all numbers at even indices (0, 2, etc.); and\n",
    "odd_fibonacci, with all numbers at odd indices (1, 3, etc.).\n",
    "Note: If you are not familiar with Fibonacci series use this link https://en.wikipedia.org/wiki/Fibonacci_number\n",
    "for this exercise your list consist this numbers: 0, 1, 1, 2, 3, 5, 8"
   ]
  },
  {
   "cell_type": "code",
   "execution_count": 33,
   "metadata": {},
   "outputs": [
    {
     "name": "stdout",
     "output_type": "stream",
     "text": [
      "([0, 2, 8], [1, 1, 3, 5])\n"
     ]
    }
   ],
   "source": [
    "# 1st attempt (tried non-slicing to understand task)\n",
    "numbers = [0, 1, 1, 2, 3, 5, 8]\n",
    "\n",
    "def even_odd_fib(numbers):\n",
    "    even = []\n",
    "    odd = []\n",
    "    for s in numbers:\n",
    "        if s % 2 == 0:\n",
    "            even.append(s)\n",
    "        elif s % 2 == 1:\n",
    "            odd.append(s)\n",
    "            \n",
    "    return even, odd\n",
    "\n",
    "print(even_odd_fib(numbers))\n",
    "\n",
    "\n"
   ]
  },
  {
   "cell_type": "code",
   "execution_count": 40,
   "metadata": {},
   "outputs": [
    {
     "data": {
      "text/plain": [
       "20"
      ]
     },
     "execution_count": 40,
     "metadata": {},
     "output_type": "execute_result"
    }
   ],
   "source": [
    "numbers = [0, 1, 1, 2, 3, 5, 8]\n",
    "sum(numbers)\n",
    "\n",
    "#Got stuck trying to finish this task using slicing\n",
    "\n"
   ]
  }
 ],
 "metadata": {
  "kernelspec": {
   "display_name": "Python 3.10.8 64-bit",
   "language": "python",
   "name": "python3"
  },
  "language_info": {
   "codemirror_mode": {
    "name": "ipython",
    "version": 3
   },
   "file_extension": ".py",
   "mimetype": "text/x-python",
   "name": "python",
   "nbconvert_exporter": "python",
   "pygments_lexer": "ipython3",
   "version": "3.10.8"
  },
  "orig_nbformat": 4,
  "vscode": {
   "interpreter": {
    "hash": "aee8b7b246df8f9039afb4144a1f6fd8d2ca17a180786b69acc140d282b71a49"
   }
  }
 },
 "nbformat": 4,
 "nbformat_minor": 2
}
