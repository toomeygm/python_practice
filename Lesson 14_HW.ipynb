{
 "cells": [
  {
   "cell_type": "markdown",
   "metadata": {},
   "source": [
    "Task 1:"
   ]
  },
  {
   "cell_type": "code",
   "execution_count": 12,
   "metadata": {},
   "outputs": [
    {
     "name": "stdout",
     "output_type": "stream",
     "text": [
      "['great', 'is', 'redi', 'school']\n"
     ]
    },
    {
     "data": {
      "text/plain": [
       "'school'"
      ]
     },
     "execution_count": 12,
     "metadata": {},
     "output_type": "execute_result"
    }
   ],
   "source": [
    "def last_word(letter_list):\n",
    "    var = sorted(letter_list)\n",
    "    print(var)\n",
    "    return var[-1]\n",
    "#return str with final letter\n",
    "\n",
    "\n",
    "letter_list = [\"redi\", \"school\", \"is\", \"great\"]\n",
    "\n",
    "last_word(letter_list)"
   ]
  },
  {
   "cell_type": "markdown",
   "metadata": {},
   "source": [
    "Task 2:\n"
   ]
  },
  {
   "cell_type": "code",
   "execution_count": 36,
   "metadata": {},
   "outputs": [
    {
     "ename": "FileNotFoundError",
     "evalue": "[Errno 2] No such file or directory: '~/Users/grainnetoomey/Desktop/GitHub/python_practice/Python practice needed.txt'",
     "output_type": "error",
     "traceback": [
      "\u001b[0;31m---------------------------------------------------------------------------\u001b[0m",
      "\u001b[0;31mFileNotFoundError\u001b[0m                         Traceback (most recent call last)",
      "Cell \u001b[0;32mIn [36], line 5\u001b[0m\n\u001b[1;32m      2\u001b[0m     log \u001b[39m=\u001b[39m \u001b[39mopen\u001b[39m(\u001b[39m\"\u001b[39m\u001b[39m~/Users/grainnetoomey/Desktop/GitHub/python_practice/Python practice needed.txt\u001b[39m\u001b[39m\"\u001b[39m)\n\u001b[1;32m      3\u001b[0m     \u001b[39mprint\u001b[39m(log\u001b[39m.\u001b[39mread())\n\u001b[0;32m----> 5\u001b[0m print_file()\n",
      "Cell \u001b[0;32mIn [36], line 2\u001b[0m, in \u001b[0;36mprint_file\u001b[0;34m()\u001b[0m\n\u001b[1;32m      1\u001b[0m \u001b[39mdef\u001b[39;00m \u001b[39mprint_file\u001b[39m():\n\u001b[0;32m----> 2\u001b[0m     log \u001b[39m=\u001b[39m \u001b[39mopen\u001b[39;49m(\u001b[39m\"\u001b[39;49m\u001b[39m~/Users/grainnetoomey/Desktop/GitHub/python_practice/Python practice needed.txt\u001b[39;49m\u001b[39m\"\u001b[39;49m)\n\u001b[1;32m      3\u001b[0m     \u001b[39mprint\u001b[39m(log\u001b[39m.\u001b[39mread())\n",
      "\u001b[0;31mFileNotFoundError\u001b[0m: [Errno 2] No such file or directory: '~/Users/grainnetoomey/Desktop/GitHub/python_practice/Python practice needed.txt'"
     ]
    }
   ],
   "source": [
    "def print_file():\n",
    "    log = open(\"~/Users/grainnetoomey/Desktop/GitHub/python_practice/Python practice needed.txt\")\n",
    "    print(log.read())\n",
    "\n",
    "print_file()"
   ]
  }
 ],
 "metadata": {
  "kernelspec": {
   "display_name": "Python 3.10.8 64-bit",
   "language": "python",
   "name": "python3"
  },
  "language_info": {
   "codemirror_mode": {
    "name": "ipython",
    "version": 3
   },
   "file_extension": ".py",
   "mimetype": "text/x-python",
   "name": "python",
   "nbconvert_exporter": "python",
   "pygments_lexer": "ipython3",
   "version": "3.10.8"
  },
  "orig_nbformat": 4,
  "vscode": {
   "interpreter": {
    "hash": "aee8b7b246df8f9039afb4144a1f6fd8d2ca17a180786b69acc140d282b71a49"
   }
  }
 },
 "nbformat": 4,
 "nbformat_minor": 2
}
