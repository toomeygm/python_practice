{
  "cells": [
    {
      "cell_type": "markdown",
      "metadata": {
        "id": "view-in-github",
        "colab_type": "text"
      },
      "source": [
        "<a href=\"https://colab.research.google.com/github/toomeygm/python_practice/blob/main/Lesson13.ipynb\" target=\"_parent\"><img src=\"https://colab.research.google.com/assets/colab-badge.svg\" alt=\"Open In Colab\"/></a>"
      ]
    },
    {
      "cell_type": "markdown",
      "metadata": {
        "id": "iILfxIyZcAb0"
      },
      "source": [
        "## Understanding Data Types 1/5\n",
        "Data type is an important concept.\n",
        "Let's bring some example:\n",
        "an `int()` type of a *variable* is useful for\n",
        "mathematical operations as of `float()`. i.e:"
      ]
    },
    {
      "cell_type": "code",
      "execution_count": 2,
      "metadata": {
        "id": "JjPBsC9BcAb7",
        "outputId": "64fad3e5-7b2b-4fee-dc74-2b8dab59f2dc",
        "colab": {
          "base_uri": "https://localhost:8080/"
        }
      },
      "outputs": [
        {
          "output_type": "stream",
          "name": "stdout",
          "text": [
            "8.0\n",
            "<class 'int'>\n"
          ]
        }
      ],
      "source": [
        "x = 4  # int()\n",
        "y = 4.0  # float()\n",
        "z = x+y  # The output would be a float()\n",
        "print(z)\n",
        "print(type(x))"
      ]
    },
    {
      "cell_type": "markdown",
      "metadata": {
        "id": "p5Vv2Jo0cAcA"
      },
      "source": [
        "## Understanding Data Types (2/5)\n",
        "As a matter of fact we use `str()` to work with *text* or *characters*"
      ]
    },
    {
      "cell_type": "code",
      "execution_count": null,
      "metadata": {
        "id": "weGsoMiycAcB"
      },
      "outputs": [],
      "source": [
        "a = \"Redi\"  # str()\n",
        "b = \"School\"  # str()\n",
        "c = a+\"-\"+b  # The output would be a str()\n",
        "print(c)"
      ]
    },
    {
      "cell_type": "markdown",
      "metadata": {
        "id": "0dTVSpsDcAcC"
      },
      "source": [
        "## Understanding Data Types (3/5)\n",
        "**Lists, tuples, dictionaries, and sets** are all iterable objects.\n",
        "They are iterable containers which you can get an iterator from.\n",
        "All these objects have a `iter()` method which is used to get an iterator"
      ]
    },
    {
      "cell_type": "code",
      "execution_count": 6,
      "metadata": {
        "id": "YVlDsUVrcAcD",
        "outputId": "5ea3a882-99c0-4ce1-d479-ace8d9758f20",
        "colab": {
          "base_uri": "https://localhost:8080/"
        }
      },
      "outputs": [
        {
          "output_type": "stream",
          "name": "stdout",
          "text": [
            "python\n",
            "java\n",
            "front-end\n",
            "etc\n",
            "python\n",
            "java\n",
            "front-end\n",
            "etc\n"
          ]
        }
      ],
      "source": [
        "redi_school = (\"python\", \"java\", \"front-end\", \"etc\")\n",
        "iterator = iter(redi_school)\n",
        "\n",
        "print(next(iterator))\n",
        "print(next(iterator))\n",
        "print(next(iterator))\n",
        "print(next(iterator))\n",
        "\n",
        "for item in redi_school:\n",
        "  print(item)"
      ]
    },
    {
      "cell_type": "markdown",
      "metadata": {
        "id": "CsOzcc5TcAcE"
      },
      "source": [
        "## Understanding Data Types (4/5)\n",
        "We can also use a for loop to *iterate* through an *iterable* object:"
      ]
    },
    {
      "cell_type": "code",
      "execution_count": null,
      "metadata": {
        "id": "ib_T6MMLcAcE"
      },
      "outputs": [],
      "source": [
        "for item in redi_school:\n",
        "    print(item)"
      ]
    },
    {
      "cell_type": "markdown",
      "metadata": {
        "id": "oRp0FiZ1cAcF"
      },
      "source": [
        "## Understanding Data Types (5/5)\n",
        "Strings are *itrable* as well. To demonstrate it loop through it\n",
        "to traves each charecter of a string"
      ]
    },
    {
      "cell_type": "code",
      "execution_count": null,
      "metadata": {
        "id": "AiOKHlzhcAcG"
      },
      "outputs": [],
      "source": [
        "characters = \"Computer Sciene\"\n",
        "\n",
        "for char in characters:\n",
        "    print(char)"
      ]
    },
    {
      "cell_type": "markdown",
      "metadata": {
        "id": "B6lnodVdcAcH"
      },
      "source": [
        "### List (1/2)\n",
        "We use the list data type to represent groups of the element as a single entity.  For example:\n",
        "If we want to store a list of names, we can use list type."
      ]
    },
    {
      "cell_type": "code",
      "execution_count": 7,
      "metadata": {
        "id": "Xgvll34ocAcI",
        "outputId": "38ce405c-e731-423d-f894-210bb5a641b5",
        "colab": {
          "base_uri": "https://localhost:8080/"
        }
      },
      "outputs": [
        {
          "output_type": "stream",
          "name": "stdout",
          "text": [
            "['Gwen Stefani', 'Rihanna', 'Adele']\n",
            "Adele\n"
          ]
        }
      ],
      "source": [
        "artists = [\"Gwen Stefani\", \"Rihanna\", \"Adele\"]\n",
        "print(artists)\n",
        "# The \"[0]\" represents the index first elemt of the iterable\n",
        "print(artists[2])"
      ]
    },
    {
      "cell_type": "markdown",
      "metadata": {
        "id": "J-UC5djMcAcI"
      },
      "source": [
        "### List (2/2)\n",
        "Since list is a **mutable** object we can modify it.\n",
        "The one way among many to modify a list is to refrencing\n",
        "the index you are going to alter."
      ]
    },
    {
      "cell_type": "code",
      "execution_count": null,
      "metadata": {
        "id": "ugEL45j7cAcJ"
      },
      "outputs": [],
      "source": [
        "artists[0] = \"Shakira\"\n",
        "print(artists)"
      ]
    },
    {
      "cell_type": "markdown",
      "metadata": {
        "id": "VEzqXCeZcAcK"
      },
      "source": [
        "#### Indexing\n",
        "To access individual *elements* and sequences of objects within your lists. Lists elements can be accessed using a numerical index in *square brackets*. The indexing sequence number in python begins with 0. This is called zero-based array indexing. Most of programming langues use 0-based such as c and c++ but some them use 1-based."
      ]
    },
    {
      "cell_type": "code",
      "execution_count": null,
      "metadata": {
        "id": "v4ZZ_7pDcAcK"
      },
      "outputs": [],
      "source": [
        "print(artists[0])  # Zero indicated the first element\n",
        "print(artists[-1])  #  minus one indicates the last item\n",
        "# Len function provides number of element of a container\n",
        "print(len(artists))"
      ]
    },
    {
      "cell_type": "markdown",
      "metadata": {
        "id": "hrEdhRqFcAcL"
      },
      "source": [
        "#### Quiz:\n",
        "We have already learned Python is 0-based array indexing languages.\n",
        "except `-1` what should we replace with `x` in order to access the last element of artists? "
      ]
    },
    {
      "cell_type": "code",
      "execution_count": null,
      "metadata": {
        "id": "EaZtU9dGcAcL"
      },
      "outputs": [],
      "source": [
        "print(artists[x])"
      ]
    },
    {
      "cell_type": "markdown",
      "metadata": {
        "id": "hsdbGJI9cAcL"
      },
      "source": [
        "#### Slicing (1/3)\n",
        "We can slice `a` list (also strings and tuple). \n",
        "Slicing is indexing syntax that extracts a portion from `a` list. If `a` is a list, then `a[m:n]` returns the portion of `a`:\n",
        "  - Starting with postion `m`\n",
        "  - Up to but not including `n`\n",
        "Negative indexing can also be used"
      ]
    },
    {
      "cell_type": "code",
      "execution_count": null,
      "metadata": {
        "id": "57IGSa-KcAcM"
      },
      "outputs": [],
      "source": [
        "a = ['spam', 'egg', 'bacon', 'tomato', 'ham', 'lobster']\n",
        "print(a)\n",
        "print(a[2:5])\n",
        "print(a[-5:-2])\n",
        "print(a[1:4])\n",
        "print(a[-5:-2] == a[1:4])\n"
      ]
    },
    {
      "cell_type": "markdown",
      "metadata": {
        "id": "QhN_DytwcAcM"
      },
      "source": [
        "#### Slicing (2/3)\n",
        "Omitting the first and/or last index:\n",
        "\n",
        "  - Omitting the first index a[:n] starts the slice at the beginning of the list.\n",
        "  - Omitting the last index a[m:] extends the slice from the first index m to the end of the list.\n",
        "  - Omitting both indexes a[:] returns a copy of the entire list, but unlike with a string, it’s a copy, not a reference to the same object."
      ]
    },
    {
      "cell_type": "code",
      "execution_count": null,
      "metadata": {
        "id": "y88-V66JcAcN"
      },
      "outputs": [],
      "source": [
        "print(a)\n",
        "print(a[:4])\n",
        "print(a[0:4])\n",
        "print(a[2:])"
      ]
    },
    {
      "cell_type": "markdown",
      "metadata": {
        "id": "G0R_TZ8IcAcN"
      },
      "source": [
        "#### Quiz:\n",
        "What is the output of `print(a[2:len(a)])`?\n",
        "explain"
      ]
    },
    {
      "cell_type": "code",
      "execution_count": null,
      "metadata": {
        "id": "aBSU8fcIcAcN"
      },
      "outputs": [],
      "source": [
        "#print(a[2:len(a)])"
      ]
    },
    {
      "cell_type": "markdown",
      "metadata": {
        "id": "D2MsVd_qcAcN"
      },
      "source": [
        "#### Slicing (3/3)\n",
        "A **stride** can be added to your slice notation. Using an additional `:` and a **third** index designates a stride (also called a step) in your slice notation. The stride can be either postive or negative:"
      ]
    },
    {
      "cell_type": "code",
      "execution_count": 14,
      "metadata": {
        "id": "I-mgF2W5cAcO",
        "outputId": "87eda81b-5954-4730-f137-ecdb87f9838f",
        "colab": {
          "base_uri": "https://localhost:8080/"
        }
      },
      "outputs": [
        {
          "output_type": "stream",
          "name": "stdout",
          "text": [
            "['spam', 'egg', 'bacon', 'tomato', 'ham', 'lobster']\n",
            "['spam', 'bacon', 'ham']\n",
            "['egg', 'tomato', 'lobster']\n",
            "['lobster', 'tomato', 'egg']\n",
            "['lobster', 'ham', 'tomato', 'bacon', 'egg', 'spam']\n"
          ]
        }
      ],
      "source": [
        "a = ['spam', 'egg', 'bacon', 'tomato', 'ham', 'lobster']\n",
        "print(a)\n",
        "print(a[0:6:2])\n",
        "print(a[1:6:2])\n",
        "print(a[5:0:-2])\n",
        "print(a[::-1])"
      ]
    },
    {
      "cell_type": "markdown",
      "metadata": {
        "id": "mdgLzSrRcAcO"
      },
      "source": [
        "### String (1/2)\n",
        "To work with text or character data in Python, we use `str`.\n",
        "Once a string is created, we can do many operations on it,\n",
        "such as searching inside it, creating a substring from it, and splitting it."
      ]
    },
    {
      "cell_type": "code",
      "execution_count": null,
      "metadata": {
        "id": "LUBHa5WlcAcO"
      },
      "outputs": [],
      "source": [
        "name = \"ReDi\"\n",
        "print(name[1])  # accessing 2nd character of a string -> E"
      ]
    },
    {
      "cell_type": "markdown",
      "metadata": {
        "id": "h54quTFdcAcP"
      },
      "source": [
        "### String (2/2)\n",
        "The string is **immutable**, i.e., it can not be changed once defined.\n",
        "You need to create a copy of it if you want to modify it.\n",
        "This non-changeable behavior is called immutability."
      ]
    },
    {
      "cell_type": "code",
      "execution_count": null,
      "metadata": {
        "id": "w6sIY1WccAcR"
      },
      "outputs": [],
      "source": [
        "name[2] = \"d\""
      ]
    },
    {
      "cell_type": "markdown",
      "metadata": {
        "id": "KhUj899zcAcR"
      },
      "source": [
        "### Tuple\n",
        "If you want to store season names you can use a tuple.\n",
        "Note: Tuple maintains the insertion order and also, allows us to store duplicate elements."
      ]
    },
    {
      "cell_type": "code",
      "execution_count": null,
      "metadata": {
        "id": "ilT4AAjpcAcS"
      },
      "outputs": [],
      "source": [
        "seasons = (\"Spring\", \"Summer\", \"Fall\", \"Winter\")\n",
        "\n",
        "seasons[2] = \"Autumn\"  # modify 3rd element of tuple\n",
        "# We'll get an error? Try to understand the errors. What type of error we get?\n"
      ]
    },
    {
      "cell_type": "code",
      "execution_count": null,
      "metadata": {
        "id": "fnfPow6OcAcU"
      },
      "outputs": [],
      "source": [
        "for item in seasons:\n",
        "    print(item)\n",
        "\n",
        "seasons[1:len(seasons)]"
      ]
    },
    {
      "cell_type": "markdown",
      "metadata": {
        "id": "oh7VrmcNcAcU"
      },
      "source": [
        "### Dictionary (1/3)\n",
        "The **dictionary** type is represented using a `dict` class.\n",
        "For example, If you want to store a population of a list of contries, then you can use the dict type"
      ]
    },
    {
      "cell_type": "code",
      "execution_count": null,
      "metadata": {
        "id": "Y7Wi201GcAcU"
      },
      "outputs": [],
      "source": [
        "g7_population = {\n",
        "    \"Germany\": 83.13,  # million\n",
        "    \"France\": 67.5,  # million\n",
        "    \"UK\": 67.33,  # million\n",
        "    \"Italy\": 59.07,  # million\n",
        "    \"Japan\": 125.7,  # million\n",
        "    \"Canada\": 38.25,  # million\n",
        "    \"US\": 331.9  # million\n",
        "    }"
      ]
    },
    {
      "cell_type": "markdown",
      "metadata": {
        "id": "OHQbJoc7cAcV"
      },
      "source": [
        "### Dictionary (2/3)\n",
        "We can loop over a dictionary but it looks a bit differnt"
      ]
    },
    {
      "cell_type": "code",
      "execution_count": null,
      "metadata": {
        "id": "dg5JuP1kcAcV"
      },
      "outputs": [],
      "source": [
        "for k,v in g7_population.items():\n",
        "    print(k+\": \",v)"
      ]
    },
    {
      "cell_type": "markdown",
      "metadata": {
        "id": "fqzGFiJZcAcV"
      },
      "source": [
        "Both keys and Values of a dictionary can be access in many ways."
      ]
    },
    {
      "cell_type": "code",
      "execution_count": null,
      "metadata": {
        "id": "ktWN2HDXcAcW"
      },
      "outputs": [],
      "source": [
        "print(g7_population[\"Germany\"])  # 83.13\n",
        "print(g7_population.keys())  # List of Keys\n",
        "\n",
        "print(g7_population.values())  # List of values\n",
        "\n",
        "g7_population.items()\n",
        "# List of tuple each containing a key and it's value\n"
      ]
    },
    {
      "cell_type": "markdown",
      "metadata": {
        "id": "wiYzFExRcAcW"
      },
      "source": [
        "### Set\n",
        "In Python, the Set data type used to represent a group of unique elements\n",
        "as a single entity. You can add or remove an element but you can't alter them."
      ]
    },
    {
      "cell_type": "code",
      "execution_count": 15,
      "metadata": {
        "id": "Wp3Qdh-vcAcW",
        "outputId": "18005641-57e0-4aa8-dea0-fc53821f90b1",
        "colab": {
          "base_uri": "https://localhost:8080/"
        }
      },
      "outputs": [
        {
          "output_type": "stream",
          "name": "stdout",
          "text": [
            "{'banana', 'apple', 'cherry'}\n",
            "{'banana', 'apple', '1337', 'cherry'}\n",
            "{'banana', 'apple', 'cherry'}\n"
          ]
        }
      ],
      "source": [
        "fruits = {\"apple\", \"banana\", \"cherry\", \"apple\"}\n",
        "print(fruits)\n",
        "fruits.add(\"1337\")  # add() method can be used to add an element\n",
        "print(fruits)\n",
        "fruits.remove(\"1337\")  # remove() method used to remove an element\n",
        "print(fruits)"
      ]
    },
    {
      "cell_type": "markdown",
      "metadata": {
        "id": "VHG3qQ7pcAcY"
      },
      "source": [
        "### Methods\n",
        "#### List\n",
        "Python has a set of built-in methods that you can use on lists/arrays."
      ]
    },
    {
      "cell_type": "code",
      "execution_count": null,
      "metadata": {
        "id": "LfQ6LJlGcAcY"
      },
      "outputs": [],
      "source": [
        "append()  #\tAdds an element at the end of the list\n",
        "clear()  # Removes all the elements from the list\n",
        "copy()  # Returns a copy of the list\n",
        "count() # Returns the number of elements with the specified value\n",
        "extend()  # Add the elements of a list (or any iterable), to the end of the current list\n",
        "index()  # Returns the index of the first element with the specified value\n",
        "insert()  # Adds an element at the specified position\n",
        "pop()  # Removes the element at the specified position\n",
        "remove()  # Removes the first item with the specified value\n",
        "reverse()  # Reverses the order of the list\n",
        "sort()  # Sorts the list"
      ]
    },
    {
      "cell_type": "markdown",
      "metadata": {
        "id": "xheSV6gMcAcY"
      },
      "source": [
        "#### String"
      ]
    },
    {
      "cell_type": "code",
      "execution_count": null,
      "metadata": {
        "id": "lZO5dxpPcAcZ"
      },
      "outputs": [],
      "source": [
        "capitalize()  # Converts the first character to upper case\n",
        "casefold()  # Converts string into lower case\n",
        "center()  # Returns a centered string\n",
        "count()  # Returns the number of times a specified value occurs in a string\n",
        "endswith()  # Returns true if the string ends with the specified value\n",
        "find()  # Searches the string for a specified value and returns the position of where it was found\n",
        "format()  # Formats specified values in a string\n",
        "index()  # Searches the string for a specified value and returns the position of where it was found\n",
        "isalnum()  # Returns True if all characters in the string are alphanumeric\n",
        "isalpha()  # Returns True if all characters in the string are in the alphabet\n",
        "isascii()  # Returns True if all characters in the string are ascii characters\n",
        "isdecimal()  # Returns True if all characters in the string are decimals\n",
        "isdigit()  # Returns True if all characters in the string are digits\n",
        "islower()  # Returns True if all characters in the string are lower case\n",
        "isnumeric()  # Returns True if all characters in the string are numeric\n",
        "istitle()  # Returns True if the string follows the rules of a title\n",
        "isupper()  # Returns True if all characters in the string are upper case\n",
        "join()  # Converts the elements of an iterable into a string\n",
        "lower()  # Converts a string into lower case\n",
        "replace()  # Returns a string where a specified value is replaced with a specified value\n",
        "split()  # Splits the string at the specified separator, and returns a list\n",
        "splitlines()  # Splits the string at line breaks and returns a list\n",
        "startswith()  # Returns true if the string starts with the specified value\n",
        "strip()  # Returns a trimmed version of the string\n",
        "swapcase()  # Swaps cases, lower case becomes upper case and vice versa\n",
        "title()  # Converts the first character of each word to upper case\n",
        "upper()  # Converts a string into upper case"
      ]
    },
    {
      "cell_type": "markdown",
      "metadata": {
        "id": "hMb45CjGcAcZ"
      },
      "source": [
        "#### Dictionaries\n",
        "Python has a set of built-in methods that you can use on dictionaries."
      ]
    },
    {
      "cell_type": "code",
      "execution_count": null,
      "metadata": {
        "id": "EXNwqF6CcAca"
      },
      "outputs": [],
      "source": [
        "clear()  # Removes all the elements from the dictionary\n",
        "copy()  # Returns a copy of the dictionary\n",
        "fromkeys()  # Returns a dictionary with the specified keys and value\n",
        "get()  # Returns the value of the specified key\n",
        "items()  # Returns a list containing a tuple for each key value pair\n",
        "keys()  # Returns a list containing the dictionary's keys\n",
        "pop()  # Removes the element with the specified key\n",
        "popitem()  # Removes the last inserted key-value pair\n",
        "setdefault()  # Returns the value of the specified key. If the key does not exist: insert the key, with the specified value\n",
        "update()  # Updates the dictionary with the specified key-value pairs\n",
        "values()  # Returns a list of all the values in the dictionary"
      ]
    },
    {
      "cell_type": "markdown",
      "metadata": {
        "id": "u1TvMQ4XcAcb"
      },
      "source": [
        "#### Set"
      ]
    },
    {
      "cell_type": "code",
      "execution_count": null,
      "metadata": {
        "id": "BUPskgpFcAcb"
      },
      "outputs": [],
      "source": [
        "add()  # Adds an element to the set\n",
        "clear()  # Removes all the elements from the set\n",
        "copy()  # Returns a copy of the set\n",
        "difference()  # Returns a set containing the difference between two or more sets\n",
        "difference_update()  # Removes the items in this set that are also included in another, specified set\n",
        "discard()  # Remove the specified item\n",
        "intersection()  # Returns a set, that is the intersection of two or more sets\n",
        "intersection_update()  # Removes the items in this set that are not present in other, specified set(s)\n",
        "isdisjoint()  # Returns whether two sets have a intersection or not\n",
        "issubset()  # Returns whether another set contains this set or not\n",
        "issuperset()  # Returns whether this set contains another set or not\n",
        "pop()  # Removes an element from the set\n",
        "remove()  # Removes the specified element\n",
        "symmetric_difference()  # Returns a set with the symmetric differences of two sets\n",
        "symmetric_difference_update()  # inserts the symmetric differences from this set and another\n",
        "union()  # Return a set containing the union of sets\n",
        "update()  # Update the set with another set, or any other iterable"
      ]
    },
    {
      "cell_type": "code",
      "source": [
        "mystr = \"REDI-school\"\n",
        "print(mystr.lower())"
      ],
      "metadata": {
        "id": "BCzDsMDk1RV_",
        "outputId": "c41df79c-7293-4cbb-c894-908e0b818aa7",
        "colab": {
          "base_uri": "https://localhost:8080/"
        }
      },
      "execution_count": 17,
      "outputs": [
        {
          "output_type": "stream",
          "name": "stdout",
          "text": [
            "redi-school\n"
          ]
        }
      ]
    },
    {
      "cell_type": "markdown",
      "metadata": {
        "id": "adTXEYjocAcb"
      },
      "source": [
        "#### Quiz\n",
        "Which method should we use in the following function. We wan to give a list as an input to the function and get a list with unique elements as an output"
      ]
    },
    {
      "cell_type": "code",
      "execution_count": 18,
      "metadata": {
        "id": "0OMCufhacAcc",
        "outputId": "6ab720c4-d00e-40e5-cdfb-66554bac9ee0",
        "colab": {
          "base_uri": "https://localhost:8080/"
        }
      },
      "outputs": [
        {
          "output_type": "stream",
          "name": "stdout",
          "text": [
            "[1, 2, 3, 4, 5]\n"
          ]
        }
      ],
      "source": [
        "def unique_list(l):\n",
        "  x = []\n",
        "  for a in l:\n",
        "    if a not in x:\n",
        "      x.append(a)\n",
        "  return x\n",
        "\n",
        "print(unique_list([1,2,3,3,3,3,4,5]))"
      ]
    }
  ],
  "metadata": {
    "kernelspec": {
      "display_name": "Python 3.10.8 64-bit (microsoft store)",
      "language": "python",
      "name": "python3"
    },
    "language_info": {
      "codemirror_mode": {
        "name": "ipython",
        "version": 3
      },
      "file_extension": ".py",
      "mimetype": "text/x-python",
      "name": "python",
      "nbconvert_exporter": "python",
      "pygments_lexer": "ipython3",
      "version": "3.10.8"
    },
    "orig_nbformat": 4,
    "vscode": {
      "interpreter": {
        "hash": "76c2c7177e445b58882c2f36f33483bd76d130edb3fcf0b970298072b7532eef"
      }
    },
    "colab": {
      "provenance": [],
      "include_colab_link": true
    }
  },
  "nbformat": 4,
  "nbformat_minor": 0
}