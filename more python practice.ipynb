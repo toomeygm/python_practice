{
 "cells": [
  {
   "cell_type": "code",
   "execution_count": 10,
   "metadata": {},
   "outputs": [
    {
     "name": "stdout",
     "output_type": "stream",
     "text": [
      "Your name is tim\n",
      "You are 69 years old\n",
      "1954\n",
      "tim , you will be  169  in 100 years' time\n"
     ]
    }
   ],
   "source": [
    "name = input (\"Tell me your name:\") #user should enter their name\n",
    "print(\"Your name is \"+ name)\n",
    "\n",
    "age = int(input(\"Enter your age:\"))\n",
    "print(\"You are\", str(age), \"years old\")\n",
    "currentYEar = int(input(\"Enter current year:\"))\n",
    "yearOfBirth = currentYEar - age\n",
    "print(yearOfBirth)\n",
    "yearAGE100 = age + 100\n",
    "print(name, \", you will be \", yearAGE100, \" in 100 years' time\")"
   ]
  },
  {
   "cell_type": "code",
   "execution_count": 14,
   "metadata": {},
   "outputs": [
    {
     "name": "stdout",
     "output_type": "stream",
     "text": [
      "werewolf\n",
      "4chan\n",
      "testtesttesttest\n"
     ]
    }
   ],
   "source": [
    "print (\"were\" + \"wolf\")\n",
    "print(str(4) + \"chan\")\n",
    "print(4 * \"test\")"
   ]
  },
  {
   "cell_type": "code",
   "execution_count": 30,
   "metadata": {},
   "outputs": [
    {
     "name": "stdout",
     "output_type": "stream",
     "text": [
      "the variable doesn't have the value 3\n",
      "The number 0 is a multiple of 4\n"
     ]
    }
   ],
   "source": [
    "a = 5\n",
    "if a == 3:\n",
    "    print(\"the variable has the value 3\")\n",
    "else:\n",
    "    print(\"the variable doesn't have the value 3\")\n",
    "\n",
    "num = int(input(\"ENter a number here\")) #User should enter a number\n",
    "if num / 4 == 0:\n",
    "    print(f\"The number {num} is a multiple of 4\")\n",
    "\n",
    "else:\n",
    "    print(f\"the number is not a multiple of 4\")\n",
    "\n",
    "\n"
   ]
  },
  {
   "cell_type": "code",
   "execution_count": 33,
   "metadata": {},
   "outputs": [
    {
     "name": "stdout",
     "output_type": "stream",
     "text": [
      "8 is a multiple of 4\n",
      "8 divides evenly by 2\n"
     ]
    }
   ],
   "source": [
    "num = int(input(\"give me a number to check: \"))\n",
    "check = int(input(\"give me a number to divide by: \"))\n",
    "\n",
    "if num % 4 == 0:\n",
    "    print(num, \"is a multiple of 4\")\n",
    "elif num % 2 == 0:\n",
    "    print(num, \"is an even number\")\n",
    "else:\n",
    "    print(num, \"is an odd number\")\n",
    "\n",
    "if num % check == 0:\n",
    "    print(num, \"divides evenly by\", check)\n",
    "else:\n",
    "    print(num, \"does not divide evenly by\", check)"
   ]
  },
  {
   "cell_type": "code",
   "execution_count": 57,
   "metadata": {},
   "outputs": [
    {
     "ename": "SyntaxError",
     "evalue": "cannot assign to function call here. Maybe you meant '==' instead of '='? (3230968937.py, line 11)",
     "output_type": "error",
     "traceback": [
      "\u001b[0;36m  Cell \u001b[0;32mIn [57], line 11\u001b[0;36m\u001b[0m\n\u001b[0;31m    if i<num: print(i)=\"\">\u001b[0m\n\u001b[0m              ^\u001b[0m\n\u001b[0;31mSyntaxError\u001b[0m\u001b[0;31m:\u001b[0m cannot assign to function call here. Maybe you meant '==' instead of '='?\n"
     ]
    }
   ],
   "source": [
    "\n",
    "for x in a_list:\n",
    "    if x < 5:\n",
    "        print(x)\n",
    "\n",
    "numbers = [7,3,13,6,8,5,1,2,4,15,9,10,12,14,11]\n",
    "num = int(input(\"Pleae enter a number:\")) #to get list of a_list numbers less than number input\n",
    "for x in numbers:\n",
    "    if x < num: #compare input number against a_list numbers\n",
    "    b_list.append (x)\n",
    "\n",
    "\n",
    "if (a_list, x) < num:\n",
    "    print(b_list)\n"
   ]
  },
  {
   "cell_type": "code",
   "execution_count": 61,
   "metadata": {},
   "outputs": [
    {
     "name": "stdout",
     "output_type": "stream",
     "text": [
      "1\n",
      "1\n",
      "2\n",
      "3\n",
      "5\n"
     ]
    }
   ],
   "source": [
    "a_list = [1, 1, 2, 3, 5, 8, 13, 21, 34, 55, 89]\n",
    "b = a_list[:5]\n",
    "for v in b:\n",
    "    print (v)\n"
   ]
  },
  {
   "cell_type": "code",
   "execution_count": 86,
   "metadata": {},
   "outputs": [
    {
     "name": "stdout",
     "output_type": "stream",
     "text": [
      "1\n",
      "2\n",
      "3\n",
      "the end\n"
     ]
    }
   ],
   "source": [
    "i = 1\n",
    "while i < 5:\n",
    "    print(i)\n",
    "    if i == 3:\n",
    "        break\n",
    "    i += 1\n",
    "\n",
    "print(\"the end\")\n",
    "\n"
   ]
  },
  {
   "cell_type": "code",
   "execution_count": 90,
   "metadata": {},
   "outputs": [
    {
     "name": "stdout",
     "output_type": "stream",
     "text": [
      "kylie\n",
      "is\n",
      "teacher\n",
      "the end\n"
     ]
    }
   ],
   "source": [
    "word_list = [\"kylie\", \"is\", \"a\", \"teacher\"]\n",
    "for word in word_list:\n",
    "    if word == \"a\":\n",
    "        continue\n",
    "    print(word)\n",
    "print(\"the end\")"
   ]
  },
  {
   "cell_type": "code",
   "execution_count": 78,
   "metadata": {},
   "outputs": [
    {
     "name": "stdout",
     "output_type": "stream",
     "text": [
      "shy raven\n",
      "shy shrike\n",
      "shy redstart\n",
      "rare raven\n",
      "rare shrike\n",
      "rare redstart\n",
      "endangered raven\n",
      "endangered shrike\n",
      "endangered redstart\n"
     ]
    }
   ],
   "source": [
    "adjs = ['shy', 'rare','endangered']\n",
    "birds = ['raven', 'shrike', 'redstart']\n",
    "\n",
    "for adj in adjs:\n",
    "    for v in birds:\n",
    "        print(adj, v)"
   ]
  },
  {
   "cell_type": "code",
   "execution_count": 1,
   "metadata": {},
   "outputs": [
    {
     "name": "stdout",
     "output_type": "stream",
     "text": [
      "f\n",
      "r\n",
      "o\n",
      "g\n",
      "s\n",
      "i\n",
      "c\n",
      "l\n",
      "e\n",
      "s\n"
     ]
    }
   ],
   "source": [
    "word = \"frogsicles\"\n",
    "\n",
    "for letter in word:\n",
    "    print(letter)\n",
    "\n"
   ]
  },
  {
   "cell_type": "code",
   "execution_count": 8,
   "metadata": {},
   "outputs": [
    {
     "name": "stdout",
     "output_type": "stream",
     "text": [
      "['waving_frog', 'cute_frog', 'tree_frog']\n",
      "9\n"
     ]
    }
   ],
   "source": [
    "frogs = [\"waving_frog\", \"green_frog\", \"tree_frog\"]\n",
    "frogs[1] = \"cute_frog\"\n",
    "print(frogs)\n",
    "print (len(frogs[2]))"
   ]
  },
  {
   "cell_type": "code",
   "execution_count": 34,
   "metadata": {},
   "outputs": [
    {
     "name": "stdout",
     "output_type": "stream",
     "text": [
      "['apple', 'banana', 'cherry', 'apple']\n",
      "['apple', 'banana', 'cherry', 'apple', 'satsuma']\n"
     ]
    }
   ],
   "source": [
    "fruits = [\"apple\", \"banana\", \"cherry\", \"apple\"]\n",
    "print(fruits)\n",
    "\n",
    "fruits.append(\"satsuma\")\n",
    "print(fruits)\n",
    "\n"
   ]
  },
  {
   "cell_type": "code",
   "execution_count": 14,
   "metadata": {},
   "outputs": [
    {
     "data": {
      "text/plain": [
       "True"
      ]
     },
     "execution_count": 14,
     "metadata": {},
     "output_type": "execute_result"
    }
   ],
   "source": [
    "t = [2, 6, 9 ,10]\n",
    "\n",
    "def is_sorted(t):\n",
    "    if t[0] < t[3]:\n",
    "        return True\n",
    "\n",
    "is_sorted(t)\n",
    "    "
   ]
  },
  {
   "cell_type": "code",
   "execution_count": 15,
   "metadata": {},
   "outputs": [
    {
     "name": "stdout",
     "output_type": "stream",
     "text": [
      "2\n",
      "6\n",
      "9\n",
      "10\n"
     ]
    }
   ],
   "source": [
    "for i in range(len(t)):\n",
    "   print(t[i])"
   ]
  },
  {
   "cell_type": "code",
   "execution_count": 19,
   "metadata": {},
   "outputs": [
    {
     "name": "stdout",
     "output_type": "stream",
     "text": [
      "1\n",
      "2 2\n",
      "3 3 3\n"
     ]
    }
   ],
   "source": [
    "#my solution to for loop & range problem on Pynative\n",
    "\n",
    "zy = [\"1\", \"2 2\", \"3 3 3\"]\n",
    "for i in range(len(zy)):\n",
    "    print(zy[i])"
   ]
  },
  {
   "cell_type": "code",
   "execution_count": 18,
   "metadata": {},
   "outputs": [
    {
     "name": "stdout",
     "output_type": "stream",
     "text": [
      "\n",
      "1 \n",
      "2 2 \n",
      "3 3 3 \n"
     ]
    }
   ],
   "source": [
    "#given solution to for loop & range problem on Pynative\n",
    "# \n",
    "for num in range(4):\n",
    "    for i in range(num):\n",
    "        print(num, end=\" \")\n",
    "    print()  # new line after each row to show pattern correctly\n"
   ]
  },
  {
   "cell_type": "code",
   "execution_count": 27,
   "metadata": {},
   "outputs": [
    {
     "name": "stdout",
     "output_type": "stream",
     "text": [
      "9\n",
      "12\n",
      "15\n",
      "[9, 12, 15]\n",
      "9\n",
      "12\n",
      "15\n"
     ]
    }
   ],
   "source": [
    "for i in range(9,18,3):\n",
    "    #print(i, end= ' ') why the need for end=''? Answer: It creates a new line and breaks the code\n",
    "    print(i)\n",
    "    \n",
    "\n",
    "i_list = list(range(9,18,3))\n",
    "print(i_list)\n",
    "#Output <class \"list\">\n",
    "\n",
    "for item in i_list:\n",
    "    print(item)"
   ]
  },
  {
   "cell_type": "code",
   "execution_count": 35,
   "metadata": {},
   "outputs": [
    {
     "name": "stdout",
     "output_type": "stream",
     "text": [
      "300\n",
      "unknown\n",
      "The Beatles: 600\n",
      "Elvis Presley: 600\n",
      "Jacko: 350\n",
      "Madonna: 300\n",
      "dict_items([('The Beatles', 600), ('Elvis Presley', 600), ('Jacko', 350), ('Madonna', 300)])\n",
      "600\n",
      "dict_keys(['The Beatles', 'Elvis Presley', 'Jacko', 'Madonna'])\n",
      "dict_values([600, 600, 350, 300])\n"
     ]
    }
   ],
   "source": [
    "best_selling_artists = {\n",
    "    \"The Beatles\": 600, # million sales\n",
    "    \"Elvis Presley\": 600,\n",
    "    \"Jacko\": 350,\n",
    "    \"Madonna\": 300\n",
    "    }\n",
    "\n",
    "#check artist sales for artist present in dict\n",
    "artist = input()\n",
    "print (best_selling_artists[\"Madonna\"])\n",
    "#To check an artist not in dict\n",
    "check_artist = input()\n",
    "if check_artist not in best_selling_artists:\n",
    "    print(\"unknown\")\n",
    "\n",
    "\n",
    "#Bonus practice: looping over dict using for loop\n",
    "for x, v in best_selling_artists.items ():\n",
    "    print(x+\":\",v)\n",
    "\n",
    "print(best_selling_artists.items())\n",
    "#alternatively, just enter \"best_selling_artists.items()\"\n",
    "\n",
    "#Bonus practice: Accessing key and value info\n",
    "print(best_selling_artists[\"Elvis Presley\"])\n",
    "print(best_selling_artists.keys()) # list of keys\n",
    "print(best_selling_artists.values()) #list of values\n"
   ]
  }
 ],
 "metadata": {
  "kernelspec": {
   "display_name": "Python 3.10.8 64-bit",
   "language": "python",
   "name": "python3"
  },
  "language_info": {
   "codemirror_mode": {
    "name": "ipython",
    "version": 3
   },
   "file_extension": ".py",
   "mimetype": "text/x-python",
   "name": "python",
   "nbconvert_exporter": "python",
   "pygments_lexer": "ipython3",
   "version": "3.10.8"
  },
  "orig_nbformat": 4,
  "vscode": {
   "interpreter": {
    "hash": "aee8b7b246df8f9039afb4144a1f6fd8d2ca17a180786b69acc140d282b71a49"
   }
  }
 },
 "nbformat": 4,
 "nbformat_minor": 2
}
