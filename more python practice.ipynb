{
 "cells": [
  {
   "cell_type": "code",
   "execution_count": 38,
   "metadata": {},
   "outputs": [
    {
     "name": "stdout",
     "output_type": "stream",
     "text": [
      "Your name is g\n",
      "You are 67 years old\n",
      "1955\n",
      "g , you will be  167  in 100 years' time\n"
     ]
    }
   ],
   "source": [
    "name = input (\"Tell me your name:\") #user should enter their name\n",
    "print(\"Your name is \"+ name)\n",
    "\n",
    "age = int(input(\"Enter your age:\"))\n",
    "print(\"You are \" + str(age) + \" years old\")\n",
    "currentYEar = int(input(\"Enter current year:\"))\n",
    "yearOfBirth = currentYEar - age\n",
    "print(yearOfBirth)\n",
    "yearAGE100 = age + 100\n",
    "print(name, \", you will be \", yearAGE100, \" in 100 years' time\")"
   ]
  },
  {
   "cell_type": "code",
   "execution_count": 14,
   "metadata": {},
   "outputs": [
    {
     "name": "stdout",
     "output_type": "stream",
     "text": [
      "werewolf\n",
      "4chan\n",
      "testtesttesttest\n"
     ]
    }
   ],
   "source": [
    "print (\"were\" + \"wolf\")\n",
    "print(str(4) + \"chan\")\n",
    "print(4 * \"test\")"
   ]
  },
  {
   "cell_type": "code",
   "execution_count": 30,
   "metadata": {},
   "outputs": [
    {
     "name": "stdout",
     "output_type": "stream",
     "text": [
      "the variable doesn't have the value 3\n",
      "The number 0 is a multiple of 4\n"
     ]
    }
   ],
   "source": [
    "a = 5\n",
    "if a == 3:\n",
    "    print(\"the variable has the value 3\")\n",
    "else:\n",
    "    print(\"the variable doesn't have the value 3\")\n",
    "\n",
    "num = int(input(\"ENter a number here\")) #User should enter a number\n",
    "if num / 4 == 0:\n",
    "    print(f\"The number {num} is a multiple of 4\")\n",
    "\n",
    "else:\n",
    "    print(f\"the number is not a multiple of 4\")\n",
    "\n",
    "\n"
   ]
  },
  {
   "cell_type": "code",
   "execution_count": 33,
   "metadata": {},
   "outputs": [
    {
     "name": "stdout",
     "output_type": "stream",
     "text": [
      "8 is a multiple of 4\n",
      "8 divides evenly by 2\n"
     ]
    }
   ],
   "source": [
    "num = int(input(\"give me a number to check: \"))\n",
    "check = int(input(\"give me a number to divide by: \"))\n",
    "\n",
    "if num % 4 == 0:\n",
    "    print(num, \"is a multiple of 4\")\n",
    "elif num % 2 == 0:\n",
    "    print(num, \"is an even number\")\n",
    "else:\n",
    "    print(num, \"is an odd number\")\n",
    "\n",
    "if num % check == 0:\n",
    "    print(num, \"divides evenly by\", check)\n",
    "else:\n",
    "    print(num, \"does not divide evenly by\", check)"
   ]
  },
  {
   "cell_type": "code",
   "execution_count": 57,
   "metadata": {},
   "outputs": [
    {
     "ename": "SyntaxError",
     "evalue": "cannot assign to function call here. Maybe you meant '==' instead of '='? (3230968937.py, line 11)",
     "output_type": "error",
     "traceback": [
      "\u001b[0;36m  Cell \u001b[0;32mIn [57], line 11\u001b[0;36m\u001b[0m\n\u001b[0;31m    if i<num: print(i)=\"\">\u001b[0m\n\u001b[0m              ^\u001b[0m\n\u001b[0;31mSyntaxError\u001b[0m\u001b[0;31m:\u001b[0m cannot assign to function call here. Maybe you meant '==' instead of '='?\n"
     ]
    }
   ],
   "source": [
    "\n",
    "for x in a_list:\n",
    "    if x < 5:\n",
    "        print(x)\n",
    "\n",
    "numbers = [7,3,13,6,8,5,1,2,4,15,9,10,12,14,11]\n",
    "num = int(input(\"Pleae enter a number:\")) #to get list of a_list numbers less than number input\n",
    "for x in numbers:\n",
    "    if x < num: #compare input number against a_list numbers\n",
    "    b_list.append (x)\n",
    "\n",
    "\n",
    "if (a_list, x) < num:\n",
    "    print(b_list)\n"
   ]
  },
  {
   "cell_type": "code",
   "execution_count": 61,
   "metadata": {},
   "outputs": [
    {
     "name": "stdout",
     "output_type": "stream",
     "text": [
      "1\n",
      "1\n",
      "2\n",
      "3\n",
      "5\n"
     ]
    }
   ],
   "source": [
    "a_list = [1, 1, 2, 3, 5, 8, 13, 21, 34, 55, 89]\n",
    "b = a_list[:5]\n",
    "for v in b:\n",
    "    print (v)\n"
   ]
  },
  {
   "cell_type": "code",
   "execution_count": 86,
   "metadata": {},
   "outputs": [
    {
     "name": "stdout",
     "output_type": "stream",
     "text": [
      "1\n",
      "2\n",
      "3\n",
      "the end\n"
     ]
    }
   ],
   "source": [
    "i = 1\n",
    "while i < 5:\n",
    "    print(i)\n",
    "    if i == 3:\n",
    "        break\n",
    "    i += 1\n",
    "\n",
    "print(\"the end\")\n",
    "\n"
   ]
  },
  {
   "cell_type": "code",
   "execution_count": 90,
   "metadata": {},
   "outputs": [
    {
     "name": "stdout",
     "output_type": "stream",
     "text": [
      "kylie\n",
      "is\n",
      "teacher\n",
      "the end\n"
     ]
    }
   ],
   "source": [
    "word_list = [\"kylie\", \"is\", \"a\", \"teacher\"]\n",
    "for word in word_list:\n",
    "    if word == \"a\":\n",
    "        continue\n",
    "    print(word)\n",
    "print(\"the end\")"
   ]
  },
  {
   "cell_type": "code",
   "execution_count": 78,
   "metadata": {},
   "outputs": [
    {
     "name": "stdout",
     "output_type": "stream",
     "text": [
      "shy raven\n",
      "shy shrike\n",
      "shy redstart\n",
      "rare raven\n",
      "rare shrike\n",
      "rare redstart\n",
      "endangered raven\n",
      "endangered shrike\n",
      "endangered redstart\n"
     ]
    }
   ],
   "source": [
    "adjs = ['shy', 'rare','endangered']\n",
    "birds = ['raven', 'shrike', 'redstart']\n",
    "\n",
    "for adj in adjs:\n",
    "    for v in birds:\n",
    "        print(adj, v)"
   ]
  },
  {
   "cell_type": "code",
   "execution_count": 1,
   "metadata": {},
   "outputs": [
    {
     "name": "stdout",
     "output_type": "stream",
     "text": [
      "f\n",
      "r\n",
      "o\n",
      "g\n",
      "s\n",
      "i\n",
      "c\n",
      "l\n",
      "e\n",
      "s\n"
     ]
    }
   ],
   "source": [
    "word = \"frogsicles\"\n",
    "\n",
    "for letter in word:\n",
    "    print(letter)\n",
    "\n"
   ]
  },
  {
   "cell_type": "code",
   "execution_count": 8,
   "metadata": {},
   "outputs": [
    {
     "name": "stdout",
     "output_type": "stream",
     "text": [
      "['waving_frog', 'cute_frog', 'tree_frog']\n",
      "9\n"
     ]
    }
   ],
   "source": [
    "frogs = [\"waving_frog\", \"green_frog\", \"tree_frog\"]\n",
    "frogs[1] = \"cute_frog\"\n",
    "print(frogs)\n",
    "print (len(frogs[2]))"
   ]
  },
  {
   "cell_type": "code",
   "execution_count": 34,
   "metadata": {},
   "outputs": [
    {
     "name": "stdout",
     "output_type": "stream",
     "text": [
      "['apple', 'banana', 'cherry', 'apple']\n",
      "['apple', 'banana', 'cherry', 'apple', 'satsuma']\n"
     ]
    }
   ],
   "source": [
    "fruits = [\"apple\", \"banana\", \"cherry\", \"apple\"]\n",
    "print(fruits)\n",
    "\n",
    "fruits.append(\"satsuma\")\n",
    "print(fruits)\n",
    "\n"
   ]
  },
  {
   "cell_type": "code",
   "execution_count": 38,
   "metadata": {},
   "outputs": [
    {
     "ename": "SyntaxError",
     "evalue": "invalid syntax (1091535967.py, line 4)",
     "output_type": "error",
     "traceback": [
      "\u001b[0;36m  Cell \u001b[0;32mIn [38], line 4\u001b[0;36m\u001b[0m\n\u001b[0;31m    if t.items <:\u001b[0m\n\u001b[0m                ^\u001b[0m\n\u001b[0;31mSyntaxError\u001b[0m\u001b[0;31m:\u001b[0m invalid syntax\n"
     ]
    }
   ],
   "source": [
    "t = [2, 6, 9 ,10]\n",
    "\n",
    "def is_sorted(t):\n",
    "    if t in_order:\n",
    "        return True\n",
    "\n",
    "is_sorted(t)\n",
    "    "
   ]
  }
 ],
 "metadata": {
  "kernelspec": {
   "display_name": "Python 3.10.8 64-bit",
   "language": "python",
   "name": "python3"
  },
  "language_info": {
   "codemirror_mode": {
    "name": "ipython",
    "version": 3
   },
   "file_extension": ".py",
   "mimetype": "text/x-python",
   "name": "python",
   "nbconvert_exporter": "python",
   "pygments_lexer": "ipython3",
   "version": "3.10.8"
  },
  "orig_nbformat": 4,
  "vscode": {
   "interpreter": {
    "hash": "aee8b7b246df8f9039afb4144a1f6fd8d2ca17a180786b69acc140d282b71a49"
   }
  }
 },
 "nbformat": 4,
 "nbformat_minor": 2
}
